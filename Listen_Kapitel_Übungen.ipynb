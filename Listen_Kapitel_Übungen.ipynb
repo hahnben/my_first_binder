{
 "cells": [
  {
   "cell_type": "markdown",
   "metadata": {},
   "source": [
    "Aufgabe 1a\n",
    "\n",
    "Will man aus dieser Primfaktorliste zu einer Zahl die dargestellte Zahl rekonstruieren, so muss man das Produkt der Listenelemente bestimmen. Teste das folgende Programm (auch mit anderen Initialisierungen). Ergänze Ausgabeanweisungen so, dass man die Produktberechnung mitverfolgen kann."
   ]
  },
  {
   "cell_type": "code",
   "execution_count": 1,
   "metadata": {},
   "outputs": [
    {
     "name": "stdout",
     "output_type": "stream",
     "text": [
      "Primfaktoren: [2, 2, 3, 7]\n",
      "Zahl: 84\n"
     ]
    }
   ],
   "source": [
    "# Initialisierung\n",
    "primfaktoren = [2, 2, 3, 7]\n",
    "# Verarbeitung\n",
    "produkt = 1\n",
    "for element in primfaktoren:\n",
    "    produkt = produkt * element\n",
    "# Ausgabe\n",
    "print('Primfaktoren:', primfaktoren)\n",
    "print('Zahl:', produkt)"
   ]
  },
  {
   "cell_type": "markdown",
   "metadata": {},
   "source": [
    "Aufgabe 1b\n",
    "\n",
    "Mit einem Programm soll ermittelt werden, wie oft eine vorgegebene Primzahl in einer Primfaktorliste vorkommt. Entwickle und teste ein solches Programm. Hinweis: Zähler benutzen."
   ]
  },
  {
   "cell_type": "code",
   "execution_count": 2,
   "metadata": {},
   "outputs": [
    {
     "name": "stdout",
     "output_type": "stream",
     "text": [
      "Primfaktoren: [2, 2, 3, 7]\n",
      "Die Primzahl 2 kommt 2 Mal in den Primfaktoren vor\n",
      "Zahl: 84\n"
     ]
    }
   ],
   "source": [
    "# Initialisierung\n",
    "primfaktoren = [2, 2, 3, 7]\n",
    "# Verarbeitung\n",
    "produkt = 1\n",
    "primzahl = 2\n",
    "zähler = 0\n",
    "for element in primfaktoren:\n",
    "    if element == primzahl:\n",
    "        zähler += 1\n",
    "    produkt = produkt * element\n",
    "# Ausgabe\n",
    "print('Primfaktoren:', primfaktoren)\n",
    "print('Die Primzahl', primzahl, 'kommt', zähler, 'Mal in den Primfaktoren vor')\n",
    "print('Zahl:', produkt)"
   ]
  },
  {
   "cell_type": "markdown",
   "metadata": {},
   "source": [
    "Aufgabe 1c\n",
    "\n",
    "(schwierig, da man verschachtelte Listen erzeugen soll) Die Primfaktorzerlegung einer Zahl kann auch mit Potenzen geschrieben werden: 84 = 22*31*50*71. Eine solche Darstellung mit Potenzen könnte man in Listenform so beschreiben: [[2, 2], [3, 1], [5, 0], [7, 1]]. Wie müsste man die Produktberechnung in (a) abändern, damit man solche Primfaktordarstellungen in entsprechende Zahlen umrechnen kann?\n",
    "\n",
    "Antwort:\n",
    "\n",
    "Man müsste das Auftreten jedes Primfaktors zählen und dann in der neuen Liste zu jedem Primfaktor eine neue Liste mit zwei Werten anlegen. Der erste Wert ist der Primfaktor selbst, der zweite ist die Potenz, mit der er auftritt.\n",
    "Dabei tritt das Problem auf, dass man wissen muss welche Zahlen Primzahlen sind. Im einfachsten Fall würde man eine Liste mit Primzahlen bereitstellen. Die bessere (aber auch schwierigere Variante) wäre es, einen Algortithmus einzubauen, der stets die nächste Primzahl bestimmt."
   ]
  },
  {
   "cell_type": "markdown",
   "metadata": {},
   "source": [
    "Aufgabe 1d (Mit Liste und for-Schleifen)"
   ]
  },
  {
   "cell_type": "code",
   "execution_count": 17,
   "metadata": {},
   "outputs": [
    {
     "name": "stdout",
     "output_type": "stream",
     "text": [
      "Primfaktoren: [2, 2, 3, 7]\n",
      "Primfaktoren in Potenzschreibweise: [[2, 2], [3, 1], [5, 0], [7, 1], [11, 0], [13, 0], [17, 0], [19, 0], [23, 0], [29, 0], [31, 0], [37, 0], [41, 0], [43, 0], [47, 0], [53, 0], [59, 0], [61, 0], [67, 0], [71, 0]]\n"
     ]
    }
   ],
   "source": [
    "# Initialisierung\n",
    "primfaktoren = [2, 2, 3, 7]\n",
    "primfaktoren_potenz = []\n",
    "sammlung_primzahlen = [2, 3, 5, 7, 11, 13, 17, 19, 23, 29, 31, 37, 41, 43, 47, 53, 59, 61, 67, 71]\n",
    "# Verarbeitung\n",
    "\n",
    "for primzahl in sammlung_primzahlen:\n",
    "    zähler = 0\n",
    "    for primfaktor in primfaktoren:\n",
    "        if primfaktor == primzahl:\n",
    "            zähler += 1\n",
    "    \n",
    "    primfaktoren_potenz = primfaktoren_potenz + [[primzahl, zähler]]\n",
    "\n",
    "    \n",
    "# Ausgabe\n",
    "print('Primfaktoren:', primfaktoren)\n",
    "print('Primfaktoren in Potenzschreibweise:', primfaktoren_potenz)"
   ]
  },
  {
   "cell_type": "markdown",
   "metadata": {},
   "source": [
    "Aufgabe 1d (mit Liste und while-Schleifen)"
   ]
  },
  {
   "cell_type": "code",
   "execution_count": 18,
   "metadata": {},
   "outputs": [
    {
     "name": "stdout",
     "output_type": "stream",
     "text": [
      "Primfaktoren: [2, 2, 3, 7]\n",
      "Primfaktoren in Potenzschreibweise: [[2, 2], [3, 1], [5, 0], [7, 1]]\n"
     ]
    }
   ],
   "source": [
    "# Initialisierung\n",
    "primfaktoren = [2, 2, 3, 7]\n",
    "primfaktoren_potenz = []\n",
    "sammlung_primzahlen = [2, 3, 5, 7, 11, 13, 17, 19, 23, 29, 31, 37, 41, 43, 47, 53, 59, 61, 67, 71]\n",
    "# Verarbeitung\n",
    "\n",
    "index = 0\n",
    "while index < len(sammlung_primzahlen) and not sammlung_primzahlen[index] > primfaktoren[-1]:\n",
    "    zähler = 0\n",
    "    for primfaktor in primfaktoren:\n",
    "        if primfaktor == sammlung_primzahlen[index]:\n",
    "            zähler += 1\n",
    "    primfaktoren_potenz = primfaktoren_potenz + [[sammlung_primzahlen[index], zähler]]\n",
    "    index += 1\n",
    "\n",
    "    \n",
    "# Ausgabe\n",
    "print('Primfaktoren:', primfaktoren)\n",
    "print('Primfaktoren in Potenzschreibweise:', primfaktoren_potenz)"
   ]
  }
 ],
 "metadata": {
  "kernelspec": {
   "display_name": "Python 3",
   "language": "python",
   "name": "python3"
  },
  "language_info": {
   "codemirror_mode": {
    "name": "ipython",
    "version": 3
   },
   "file_extension": ".py",
   "mimetype": "text/x-python",
   "name": "python",
   "nbconvert_exporter": "python",
   "pygments_lexer": "ipython3",
   "version": "3.9.13"
  },
  "orig_nbformat": 4
 },
 "nbformat": 4,
 "nbformat_minor": 2
}
